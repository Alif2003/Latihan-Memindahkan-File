{
 "cells": [
  {
   "cell_type": "code",
   "execution_count": 1,
   "id": "afce6d76",
   "metadata": {},
   "outputs": [
    {
     "name": "stdout",
     "output_type": "stream",
     "text": [
      "Muhammad ALif Apriza\n"
     ]
    }
   ],
   "source": [
    "print(\"Muhammad ALif Apriza\")"
   ]
  },
  {
   "cell_type": "code",
   "execution_count": 2,
   "id": "0e3808d7",
   "metadata": {},
   "outputs": [
    {
     "name": "stdout",
     "output_type": "stream",
     "text": [
      "hello Jema`ah\n"
     ]
    }
   ],
   "source": [
    "print(\"hello Jema`ah\")"
   ]
  },
  {
   "cell_type": "code",
   "execution_count": null,
   "id": "b725dce3",
   "metadata": {},
   "outputs": [],
   "source": []
  }
 ],
 "metadata": {
  "kernelspec": {
   "display_name": "Python 3 (ipykernel)",
   "language": "python",
   "name": "python3"
  },
  "language_info": {
   "codemirror_mode": {
    "name": "ipython",
    "version": 3
   },
   "file_extension": ".py",
   "mimetype": "text/x-python",
   "name": "python",
   "nbconvert_exporter": "python",
   "pygments_lexer": "ipython3",
   "version": "3.9.12"
  }
 },
 "nbformat": 4,
 "nbformat_minor": 5
}
